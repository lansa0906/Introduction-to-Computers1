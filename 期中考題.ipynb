{
  "nbformat": 4,
  "nbformat_minor": 0,
  "metadata": {
    "colab": {
      "provenance": [],
      "authorship_tag": "ABX9TyNMsbYg7Qlrl4gCZPW/465v",
      "include_colab_link": true
    },
    "kernelspec": {
      "name": "python3",
      "display_name": "Python 3"
    },
    "language_info": {
      "name": "python"
    }
  },
  "cells": [
    {
      "cell_type": "markdown",
      "metadata": {
        "id": "view-in-github",
        "colab_type": "text"
      },
      "source": [
        "<a href=\"https://colab.research.google.com/github/lansa0906/Introduction-to-Computers1/blob/main/%E6%9C%9F%E4%B8%AD%E8%80%83%E9%A1%8C.ipynb\" target=\"_parent\"><img src=\"https://colab.research.google.com/assets/colab-badge.svg\" alt=\"Open In Colab\"/></a>"
      ]
    },
    {
      "cell_type": "code",
      "execution_count": 1,
      "metadata": {
        "colab": {
          "base_uri": "https://localhost:8080/"
        },
        "id": "rz1KZGgsBLWc",
        "outputId": "ba43d4f9-ed7e-4bc6-fdbf-8080548af372"
      },
      "outputs": [
        {
          "output_type": "stream",
          "name": "stdout",
          "text": [
            "peiyu\n",
            "peiyu\n"
          ]
        }
      ],
      "source": [
        "a=input()\n",
        "print(a)"
      ]
    },
    {
      "cell_type": "code",
      "source": [
        "b=input()\n",
        "print(len(b))"
      ],
      "metadata": {
        "colab": {
          "base_uri": "https://localhost:8080/"
        },
        "id": "yWgwM41kBn-R",
        "outputId": "e4541bf0-2b14-4148-830c-c7e1640a0902"
      },
      "execution_count": 2,
      "outputs": [
        {
          "output_type": "stream",
          "name": "stdout",
          "text": [
            "hello panda hi hi\n",
            "17\n"
          ]
        }
      ]
    },
    {
      "cell_type": "code",
      "source": [
        "h,w=input().split()\n",
        "new_h=int(h)\n",
        "new_w=int(w)\n",
        "m_h=new_h/100\n",
        "bmi=new_w/m_h**2\n",
        "print(\"%.2f\"% bmi)"
      ],
      "metadata": {
        "colab": {
          "base_uri": "https://localhost:8080/"
        },
        "id": "P0CfdGG_BwC4",
        "outputId": "c81ce897-b565-43b5-a356-fbef26067486"
      },
      "execution_count": 6,
      "outputs": [
        {
          "output_type": "stream",
          "name": "stdout",
          "text": [
            "180 70\n",
            "21.60\n"
          ]
        }
      ]
    },
    {
      "cell_type": "code",
      "source": [
        "a=int(input())\n",
        "ans=sum(range(10,a+1))\n",
        "print(ans)"
      ],
      "metadata": {
        "colab": {
          "base_uri": "https://localhost:8080/"
        },
        "id": "BwpEWWiCDUFW",
        "outputId": "862adf77-fd30-4438-da27-79307a9301d5"
      },
      "execution_count": 7,
      "outputs": [
        {
          "output_type": "stream",
          "name": "stdout",
          "text": [
            "15\n",
            "75\n"
          ]
        }
      ]
    },
    {
      "cell_type": "code",
      "source": [
        "a=input()\n",
        "print(a)"
      ],
      "metadata": {
        "colab": {
          "base_uri": "https://localhost:8080/"
        },
        "id": "phntoY3lCJ-6",
        "outputId": "f0f529a6-1482-45dc-94a5-e9bcfa9ca124"
      },
      "execution_count": 8,
      "outputs": [
        {
          "output_type": "stream",
          "name": "stdout",
          "text": [
            "張惟鈞\n",
            "張惟鈞\n"
          ]
        }
      ]
    },
    {
      "cell_type": "code",
      "source": [
        "h,w=input().split()\n",
        "new_h=int(h)\n",
        "new_w=int(w)\n",
        "m_h=new_h/100\n",
        "bmi=new_w/m_h**2\n",
        "print(\"%.2f\"% bmi)"
      ],
      "metadata": {
        "id": "mCLuyirlDmgd"
      },
      "execution_count": null,
      "outputs": []
    },
    {
      "cell_type": "code",
      "source": [
        "totalA=0\n",
        "for i in range(1,101):\n",
        " totalA +=i\n",
        "print(totalA)"
      ],
      "metadata": {
        "colab": {
          "base_uri": "https://localhost:8080/"
        },
        "id": "uPgypxFRDtLt",
        "outputId": "7023b842-c222-4174-9215-623d4d6492ce"
      },
      "execution_count": 10,
      "outputs": [
        {
          "output_type": "stream",
          "name": "stdout",
          "text": [
            "5050\n"
          ]
        }
      ]
    }
  ]
}